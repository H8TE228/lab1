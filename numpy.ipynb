{
  "cells": [
    {
      "cell_type": "markdown",
      "metadata": {
        "id": "vC84e9kzyxPy"
      },
      "source": [
        "<h1>Импорт библиотек"
      ]
    },
    {
      "cell_type": "code",
      "execution_count": 3,
      "metadata": {
        "id": "cgKeNegmQG5S"
      },
      "outputs": [],
      "source": [
        "import numpy as np\n",
        "import matplotlib.pyplot as plt\n",
        "import unittest"
      ]
    },
    {
      "cell_type": "markdown",
      "metadata": {
        "id": "qFM9uVU2x4Ls"
      },
      "source": [
        "<h1>Задача 1. Дан набор из $p$ матриц размерностью $(n, n)$ и $p$ векторов размерностью $(n, 1)$, найти сумму произведений матриц на векторы. Написать тесты для кода"
      ]
    },
    {
      "cell_type": "code",
      "execution_count": 5,
      "metadata": {
        "id": "IAbUvEiYyWFF"
      },
      "outputs": [
        {
          "name": "stderr",
          "output_type": "stream",
          "text": [
            "...\n",
            "----------------------------------------------------------------------\n",
            "Ran 3 tests in 0.006s\n",
            "\n",
            "OK\n"
          ]
        },
        {
          "data": {
            "text/plain": [
              "<unittest.runner.TextTestResult run=3 errors=0 failures=0>"
            ]
          },
          "execution_count": 5,
          "metadata": {},
          "output_type": "execute_result"
        }
      ],
      "source": [
        "def matrix_vector_sum(matrices, vectors):\n",
        "    result = sum(np.dot(matrix, vector) for matrix, vector in zip(matrices, vectors))\n",
        "    return result\n",
        "\n",
        "\n",
        "class TestMatrixVectorSum(unittest.TestCase):\n",
        "\n",
        "    def test_basic_case(self):\n",
        "        X1 = np.array([[5, 2], [3, 1]])\n",
        "        X2 = np.array([[2, 4], [5, 8]])\n",
        "        V1 = np.array([[1], [2]])\n",
        "        V2 = np.array([[1], [2]])\n",
        "\n",
        "        matrices = [X1, X2]\n",
        "        vectors = [V1, V2]\n",
        "\n",
        "        result = matrix_vector_sum(matrices, vectors)\n",
        "        expected = np.array([[19], [26]]) \n",
        "        np.testing.assert_array_equal(result, expected)\n",
        "\n",
        "    def test_single_matrix_vector(self):\n",
        "        X = np.array([[1, 2], [3, 4]])\n",
        "        V = np.array([[1], [1]])\n",
        "\n",
        "        matrices = [X]\n",
        "        vectors = [V]\n",
        "\n",
        "        result = matrix_vector_sum(matrices, vectors)\n",
        "        expected = np.array([[3], [7]])\n",
        "        np.testing.assert_array_equal(result, expected)\n",
        "\n",
        "    def test_zero_case(self):\n",
        "        X1 = np.array([[0, 0], [0, 0]])\n",
        "        X2 = np.array([[0, 0], [0, 0]])\n",
        "        V1 = np.array([[0], [0]])\n",
        "        V2 = np.array([[0], [0]])\n",
        "\n",
        "        matrices = [X1, X2]\n",
        "        vectors = [V1, V2]\n",
        "\n",
        "        result = matrix_vector_sum(matrices, vectors)\n",
        "        expected = np.array([[0], [0]])\n",
        "        np.testing.assert_array_equal(result, expected)\n",
        "\n",
        "unittest.TextTestRunner().run(unittest.defaultTestLoader.loadTestsFromTestCase(TestMatrixVectorSum))"
      ]
    },
    {
      "cell_type": "markdown",
      "metadata": {
        "id": "TKwPG4fIy2w4"
      },
      "source": [
        "<h1>Задача 2. Дана матрица M, напишите функцию, которая бинаризует матрицу по некоторому threshold (то есть, все значения большие threshold становятся равными 1, иначе 0). Напишите тесты для кода"
      ]
    },
    {
      "cell_type": "code",
      "execution_count": 6,
      "metadata": {
        "id": "KQDNMgsjRNH7"
      },
      "outputs": [
        {
          "name": "stderr",
          "output_type": "stream",
          "text": [
            "......\n",
            "----------------------------------------------------------------------\n",
            "Ran 6 tests in 0.003s\n",
            "\n",
            "OK\n"
          ]
        },
        {
          "data": {
            "text/plain": [
              "<unittest.runner.TextTestResult run=6 errors=0 failures=0>"
            ]
          },
          "execution_count": 6,
          "metadata": {},
          "output_type": "execute_result"
        }
      ],
      "source": [
        "def binarize(M, threshold=0.5):\n",
        "  return np.where(M > threshold, 1, 0)\n",
        "\n",
        "class TestBinarize(unittest.TestCase):\n",
        "    \n",
        "    def test_basic_case(self):\n",
        "        M = np.array([[0.2, 0.6], [0.8, 0.1]])\n",
        "        threshold = 0.5\n",
        "        result = binarize(M, threshold)\n",
        "        expected = np.array([[0, 1], [1, 0]])\n",
        "        np.testing.assert_array_equal(result, expected)\n",
        "    \n",
        "    def test_threshold_edge(self):\n",
        "        M = np.array([[0.5, 0.7], [0.4, 0.5]])\n",
        "        threshold = 0.5\n",
        "        result = binarize(M, threshold)\n",
        "        expected = np.array([[0, 1], [0, 0]]) \n",
        "        np.testing.assert_array_equal(result, expected)\n",
        "\n",
        "    def test_matrix_with_zeros(self):\n",
        "        M = np.array([[0, 0], [0, 0]])\n",
        "        threshold = 0.5\n",
        "        result = binarize(M, threshold)\n",
        "        expected = np.array([[0, 0], [0, 0]]) \n",
        "        np.testing.assert_array_equal(result, expected)\n",
        "\n",
        "    def test_matrix_with_ones(self):\n",
        "        M = np.array([[1, 1], [1, 1]])\n",
        "        threshold = 0.5\n",
        "        result = binarize(M, threshold)\n",
        "        expected = np.array([[1, 1], [1, 1]]) \n",
        "        np.testing.assert_array_equal(result, expected)\n",
        "    \n",
        "    def test_empty_matrix(self):\n",
        "        M = np.array([[]])\n",
        "        threshold = 0.5\n",
        "        result = binarize(M, threshold)\n",
        "        expected = np.array([[]])  \n",
        "        np.testing.assert_array_equal(result, expected)\n",
        "\n",
        "    def test_custom_threshold(self):\n",
        "        M = np.array([[0.3, 0.7], [0.2, 0.9]])\n",
        "        threshold = 0.6\n",
        "        result = binarize(M, threshold)\n",
        "        expected = np.array([[0, 1], [0, 1]]) \n",
        "        np.testing.assert_array_equal(result, expected)\n",
        "\n",
        "unittest.TextTestRunner().run(unittest.defaultTestLoader.loadTestsFromTestCase(TestBinarize))"
      ]
    },
    {
      "cell_type": "markdown",
      "metadata": {
        "id": "IY5L-h-7zWhN"
      },
      "source": [
        "<h1>Задача 3. Напишите функцию, которая возвращает уникальные элементы из каждой строки матрицы. Напишите такую же функцию, но для столбцов. Напишите тесты для кода"
      ]
    },
    {
      "cell_type": "code",
      "execution_count": 7,
      "metadata": {
        "id": "-8dEZhR0SBC-"
      },
      "outputs": [
        {
          "name": "stderr",
          "output_type": "stream",
          "text": [
            ".....\n",
            "----------------------------------------------------------------------\n",
            "Ran 5 tests in 0.011s\n",
            "\n",
            "OK\n"
          ]
        },
        {
          "data": {
            "text/plain": [
              "<unittest.runner.TextTestResult run=5 errors=0 failures=0>"
            ]
          },
          "execution_count": 7,
          "metadata": {},
          "output_type": "execute_result"
        }
      ],
      "source": [
        "def unique_rows(matrix):\n",
        "    return [np.unique(row) for row in matrix]\n",
        "\n",
        "def unique_columns(matrix):\n",
        "    return [np.unique(matrix[:, col]) for col in range(matrix.shape[1])]\n",
        "\n",
        "import unittest\n",
        "\n",
        "class TestUniqueElements(unittest.TestCase):\n",
        "\n",
        "    def test_unique_rows_basic(self):\n",
        "        matrix = np.array([[1, 2, 2, 3],\n",
        "                           [4, 4, 5, 5],\n",
        "                           [1, 1, 1, 1]])\n",
        "        result = unique_rows(matrix)\n",
        "        expected = [np.array([1, 2, 3]), np.array([4, 5]), np.array([1])]\n",
        "        for r, e in zip(result, expected):\n",
        "            np.testing.assert_array_equal(r, e)\n",
        "\n",
        "    def test_unique_rows_empty(self):\n",
        "        matrix = np.array([[]])\n",
        "        result = unique_rows(matrix)\n",
        "        expected = [np.array([])]\n",
        "        np.testing.assert_array_equal(result[0], expected[0])\n",
        "    \n",
        "    def test_unique_columns_basic(self):\n",
        "        matrix = np.array([[1, 2, 2, 3],\n",
        "                           [4, 4, 5, 5],\n",
        "                           [1, 1, 1, 1]])\n",
        "        result = unique_columns(matrix)\n",
        "        expected = [np.array([1, 4]), np.array([1, 2, 4]), np.array([1, 2, 5]), np.array([1, 3, 5])]\n",
        "        for r, e in zip(result, expected):\n",
        "            np.testing.assert_array_equal(r, e)\n",
        "\n",
        "    def test_unique_columns_empty(self):\n",
        "        matrix = np.array([[]])\n",
        "        result = unique_columns(matrix)\n",
        "        expected = []\n",
        "        self.assertEqual(result, expected)\n",
        "\n",
        "    def test_unique_all_same(self):\n",
        "        matrix = np.array([[7, 7, 7],\n",
        "                           [7, 7, 7],\n",
        "                           [7, 7, 7]])\n",
        "        result_rows = unique_rows(matrix)\n",
        "        result_cols = unique_columns(matrix)\n",
        "        expected = [np.array([7]), np.array([7]), np.array([7])]\n",
        "        for r in result_rows:\n",
        "            np.testing.assert_array_equal(r, expected[0])\n",
        "        for c in result_cols:\n",
        "            np.testing.assert_array_equal(c, expected[0])\n",
        "\n",
        "unittest.TextTestRunner().run(unittest.defaultTestLoader.loadTestsFromTestCase(TestUniqueElements))\n",
        "\n"
      ]
    },
    {
      "cell_type": "markdown",
      "metadata": {
        "id": "roYAlo4Jz-lH"
      },
      "source": [
        "<h1>Задача 4. Напишите функцию, которая заполняет матрицу с размерами $(m, n)$ случайными числами, распределенными по нормальному закону. Затем считает мат. ожидание и дисперсию для каждого из столбцов и строк, а также строит для каждой строки и столбца гистограмму значений (использовать функцию hist из модуля matplotlib.plot)"
      ]
    },
    {
      "cell_type": "code",
      "execution_count": 10,
      "metadata": {
        "id": "nZK_71hMSQzv"
      },
      "outputs": [
        {
          "ename": "NameError",
          "evalue": "name 'patch' is not defined",
          "output_type": "error",
          "traceback": [
            "\u001b[1;31m---------------------------------------------------------------------------\u001b[0m",
            "\u001b[1;31mNameError\u001b[0m                                 Traceback (most recent call last)",
            "Cell \u001b[1;32mIn[10], line 41\u001b[0m\n\u001b[0;32m     37\u001b[0m         plt\u001b[38;5;241m.\u001b[39mgrid(\u001b[38;5;28;01mTrue\u001b[39;00m)\n\u001b[0;32m     38\u001b[0m         plt\u001b[38;5;241m.\u001b[39mshow()\n\u001b[1;32m---> 41\u001b[0m \u001b[38;5;28;43;01mclass\u001b[39;49;00m\u001b[43m \u001b[49m\u001b[38;5;21;43;01mTestMatrixFunctions\u001b[39;49;00m\u001b[43m(\u001b[49m\u001b[43munittest\u001b[49m\u001b[38;5;241;43m.\u001b[39;49m\u001b[43mTestCase\u001b[49m\u001b[43m)\u001b[49m\u001b[43m:\u001b[49m\n\u001b[0;32m     43\u001b[0m \u001b[43m    \u001b[49m\u001b[38;5;28;43;01mdef\u001b[39;49;00m\u001b[43m \u001b[49m\u001b[38;5;21;43mtest_create_normal_distribution_matrix\u001b[39;49m\u001b[43m(\u001b[49m\u001b[38;5;28;43mself\u001b[39;49m\u001b[43m)\u001b[49m\u001b[43m:\u001b[49m\n\u001b[0;32m     44\u001b[0m \u001b[43m        \u001b[49m\u001b[43mrows\u001b[49m\u001b[43m,\u001b[49m\u001b[43m \u001b[49m\u001b[43mcols\u001b[49m\u001b[43m \u001b[49m\u001b[38;5;241;43m=\u001b[39;49m\u001b[43m \u001b[49m\u001b[38;5;241;43m4\u001b[39;49m\u001b[43m,\u001b[49m\u001b[43m \u001b[49m\u001b[38;5;241;43m3\u001b[39;49m\n",
            "Cell \u001b[1;32mIn[10], line 72\u001b[0m, in \u001b[0;36mTestMatrixFunctions\u001b[1;34m()\u001b[0m\n\u001b[0;32m     68\u001b[0m     np\u001b[38;5;241m.\u001b[39mtesting\u001b[38;5;241m.\u001b[39massert_array_almost_equal(result[\u001b[38;5;124m'\u001b[39m\u001b[38;5;124mmean_columns\u001b[39m\u001b[38;5;124m'\u001b[39m], expected_mean_columns, decimal\u001b[38;5;241m=\u001b[39m\u001b[38;5;241m2\u001b[39m)\n\u001b[0;32m     70\u001b[0m     np\u001b[38;5;241m.\u001b[39mtesting\u001b[38;5;241m.\u001b[39massert_array_almost_equal(result[\u001b[38;5;124m'\u001b[39m\u001b[38;5;124mvariance_columns\u001b[39m\u001b[38;5;124m'\u001b[39m], expected_variance_columns, decimal\u001b[38;5;241m=\u001b[39m\u001b[38;5;241m2\u001b[39m)\n\u001b[1;32m---> 72\u001b[0m \u001b[38;5;129m@patch\u001b[39m(\u001b[38;5;124m'\u001b[39m\u001b[38;5;124mmatplotlib.pyplot.show\u001b[39m\u001b[38;5;124m'\u001b[39m)\n\u001b[0;32m     73\u001b[0m \u001b[38;5;28;01mdef\u001b[39;00m \u001b[38;5;21mtest_draw_histograms\u001b[39m(\u001b[38;5;28mself\u001b[39m, mock_show):\n\u001b[0;32m     74\u001b[0m     matrix \u001b[38;5;241m=\u001b[39m np\u001b[38;5;241m.\u001b[39mrandom\u001b[38;5;241m.\u001b[39mnormal(size\u001b[38;5;241m=\u001b[39m(\u001b[38;5;241m3\u001b[39m, \u001b[38;5;241m3\u001b[39m))\n\u001b[0;32m     76\u001b[0m     draw_histograms(matrix)\n",
            "\u001b[1;31mNameError\u001b[0m: name 'patch' is not defined"
          ]
        }
      ],
      "source": [
        "def create_normal_distribution_matrix(rows, cols):\n",
        "    matrix = np.random.normal(size=(rows, cols))\n",
        "    return matrix\n",
        "\n",
        "def get_mean_and_variance(matrix):\n",
        "    mean_rows = np.mean(matrix, axis=1)\n",
        "    variance_rows = np.var(matrix, axis=1)\n",
        "    \n",
        "    mean_columns = np.mean(matrix, axis=0)\n",
        "    variance_columns = np.var(matrix, axis=0)\n",
        "    \n",
        "    return {\n",
        "        \"mean_rows\": mean_rows,\n",
        "        \"variance_rows\": variance_rows,\n",
        "        \"mean_columns\": mean_columns,\n",
        "        \"variance_columns\": variance_columns\n",
        "    }\n",
        "\n",
        "def draw_histograms(matrix):\n",
        "    rows, cols = matrix.shape\n",
        "    \n",
        "    for row_idx in range(rows):\n",
        "        plt.figure()\n",
        "        plt.hist(matrix[row_idx, :], bins=20, color='blue', alpha=0.7)\n",
        "        plt.title(f'Гистограмма значений для строки {row_idx + 1}')\n",
        "        plt.xlabel('Значение')\n",
        "        plt.ylabel('Частота')\n",
        "        plt.grid(True)\n",
        "        plt.show()\n",
        "\n",
        "    for col_idx in range(cols):\n",
        "        plt.figure()\n",
        "        plt.hist(matrix[:, col_idx], bins=20, color='green', alpha=0.7)\n",
        "        plt.title(f'Гистограмма значений для столбца {col_idx + 1}')\n",
        "        plt.xlabel('Значение')\n",
        "        plt.ylabel('Частота')\n",
        "        plt.grid(True)\n",
        "        plt.show()\n",
        "\n",
        "\n",
        "class TestMatrixFunctions(unittest.TestCase):\n",
        "\n",
        "    def test_create_normal_distribution_matrix(self):\n",
        "        rows, cols = 4, 3\n",
        "        matrix = create_normal_distribution_matrix(rows, cols)\n",
        "\n",
        "        self.assertEqual(matrix.shape, (rows, cols))\n",
        "\n",
        "        self.assertAlmostEqual(np.mean(matrix), 0, delta=0.5)\n",
        "\n",
        "        self.assertAlmostEqual(np.var(matrix), 1, delta=0.5)\n",
        "\n",
        "    def test_get_mean_and_variance(self):\n",
        "        matrix = np.array([[1, 2, 3], [4, 5, 6], [7, 8, 9]])\n",
        "        \n",
        "        result = get_mean_and_variance(matrix)\n",
        "\n",
        "        expected_mean_rows = np.array([2.0, 5.0, 8.0])\n",
        "        expected_variance_rows = np.array([2/3, 2/3, 2/3])\n",
        "        \n",
        "        expected_mean_columns = np.array([4.0, 5.0, 6.0])\n",
        "        expected_variance_columns = np.array([6.0, 6.0, 6.0])\n",
        "\n",
        "        np.testing.assert_array_almost_equal(result['mean_rows'], expected_mean_rows, decimal=2)\n",
        "\n",
        "        np.testing.assert_array_almost_equal(result['variance_rows'], expected_variance_rows, decimal=2)\n",
        "\n",
        "        np.testing.assert_array_almost_equal(result['mean_columns'], expected_mean_columns, decimal=2)\n",
        "\n",
        "        np.testing.assert_array_almost_equal(result['variance_columns'], expected_variance_columns, decimal=2)\n",
        "\n",
        "    @patch('matplotlib.pyplot.show')\n",
        "    def test_draw_histograms(self, mock_show):\n",
        "        matrix = np.random.normal(size=(3, 3))\n",
        "\n",
        "        draw_histograms(matrix)\n",
        "        \n",
        "        self.assertEqual(mock_show.call_count, 6)\n",
        "\n",
        "    def test_empty_matrix(self):\n",
        "        matrix = np.array([[]])\n",
        "\n",
        "        result = get_mean_and_variance(matrix)\n",
        "        \n",
        "        np.testing.assert_array_equal(result['mean_rows'], np.array([]))\n",
        "        np.testing.assert_array_equal(result['variance_rows'], np.array([]))\n",
        "        np.testing.assert_array_equal(result['mean_columns'], np.array([]))\n",
        "        np.testing.assert_array_equal(result['variance_columns'], np.array([]))\n",
        "\n",
        "\n",
        "unittest.TextTestRunner().run(unittest.defaultTestLoader.loadTestsFromTestCase(TestUniqueElements))\n"
      ]
    },
    {
      "cell_type": "markdown",
      "metadata": {
        "id": "BDyATNdM0dJ2"
      },
      "source": [
        "<h1>Задача 5. Напишите функцию, которая заполняет матрицу $(m, n)$ в шахматном порядке заданными числами $a$ и $b$. Напишите тесты для кода"
      ]
    },
    {
      "cell_type": "code",
      "execution_count": null,
      "metadata": {
        "id": "RWNJYWQGecS6"
      },
      "outputs": [],
      "source": [
        "def chess(m, n, a, b):\n",
        "    # Your code goes here\n",
        "    pass"
      ]
    },
    {
      "cell_type": "markdown",
      "metadata": {
        "id": "-ymXLtTN0vB6"
      },
      "source": [
        "<h1>Задача 6. Напишите функцию, которая отрисовывает прямоугольник с заданными размерами (a, b) на изображении размера (m, n), цвет фона задайте в схеме RGB, как и цвет прямоугольника. Цвета также должны быть параметрами функции. Напишите аналогичную функцию но для овала с полуосями a и b. Напишите тесты для кода.\n",
        "Примечание: уравнение эллипса (границы овала) можно записать как:\n",
        "<h1>$\\frac{(x-x_0)^2}{a^2}+\\frac{(y-y_0)^2}{b^2}=1$"
      ]
    },
    {
      "cell_type": "code",
      "execution_count": 1,
      "metadata": {
        "id": "sNfl1t_kfOF4"
      },
      "outputs": [],
      "source": [
        "def draw_rectangle(a, b, m, n, rectangle_color, background_color):\n",
        "    # Your code goes here\n",
        "    pass\n",
        "\n",
        "def draw_ellipse(a, b, m, n, ellipse_color, background_color):\n",
        "    # Your code goes here\n",
        "    pass"
      ]
    },
    {
      "cell_type": "markdown",
      "metadata": {
        "id": "S82c38oz244H"
      },
      "source": [
        "<h1>Задача 7. Дан некий временной ряд. Для данного ряда нужно найти его: математическое ожидание, дисперсию, СКО, найти все локальные максимумы и минимумы (локальный максимум - это точка, которая больше своих соседних точек, а локальный минимум - это точка, которая меньше своих соседей), а также вычислить для данного ряда другой ряд, получаемый методом скользящего среднего с размером окна $p$.\n",
        "<h1>Примечание: метод скользящего среднего подразумевает нахождение среднего из подмножетсва ряда размером $p$"
      ]
    },
    {
      "cell_type": "code",
      "execution_count": null,
      "metadata": {
        "id": "Zb9mIVge5MMt"
      },
      "outputs": [],
      "source": [
        "# Your code goes here"
      ]
    },
    {
      "cell_type": "markdown",
      "metadata": {
        "id": "jPkylmOX5O9n"
      },
      "source": [
        "<h1> Задача 8. Дан некоторый вектор с целочисленными метками классов, напишите функцию, которая выполняет one-hot-encoding для данного вектора\n",
        "<h1> One-hot-encoding - представление, в котором на месте метки некоторого класса стоит 1, в остальных позициях стоит 0. Например для вектора [0, 2, 3, 0] one-hot-encoding выглядит как: [[1, 0, 0, 0], [0, 0, 1, 0], [0, 0, 0, 1], [1, 0, 0, 0]]"
      ]
    },
    {
      "cell_type": "code",
      "execution_count": null,
      "metadata": {
        "id": "Y-jlnZvw56lD"
      },
      "outputs": [],
      "source": [
        "# Your code goes here"
      ]
    }
  ],
  "metadata": {
    "colab": {
      "provenance": []
    },
    "kernelspec": {
      "display_name": "Python 3",
      "name": "python3"
    },
    "language_info": {
      "codemirror_mode": {
        "name": "ipython",
        "version": 3
      },
      "file_extension": ".py",
      "mimetype": "text/x-python",
      "name": "python",
      "nbconvert_exporter": "python",
      "pygments_lexer": "ipython3",
      "version": "3.12.6"
    }
  },
  "nbformat": 4,
  "nbformat_minor": 0
}
